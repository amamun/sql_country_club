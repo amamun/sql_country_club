{
 "cells": [
  {
   "cell_type": "markdown",
   "id": "938fa7ae",
   "metadata": {},
   "source": [
    "The following piece of code is for connecting with sqlite3. For executing any query you just need to write the query and run the command execute_query(query)"
   ]
  },
  {
   "cell_type": "code",
   "execution_count": 1,
   "id": "e6bde42a",
   "metadata": {},
   "outputs": [],
   "source": [
    "import sqlite3\n",
    "import pandas as pd\n",
    "from sqlite3 import Error\n",
    "\n",
    " \n",
    "def create_connection(db_file):\n",
    "    \"\"\" create a database connection to the SQLite database\n",
    "        specified by the db_file\n",
    "    :param db_file: database file\n",
    "    :return: Connection object or None\n",
    "    \"\"\"\n",
    "    conn = None\n",
    "    try:\n",
    "        conn = sqlite3.connect(db_file)\n",
    "        #print(sqlite3.version)\n",
    "    except Error as e:\n",
    "        print(e)\n",
    " \n",
    "    return conn\n",
    "\n",
    " \n",
    "def select_all_tasks(conn, query1):\n",
    "    \"\"\"\n",
    "    Query all rows in the tasks table\n",
    "    :param conn: the Connection object\n",
    "    :return:\n",
    "    \"\"\"\n",
    "    #cur = conn.cursor()\n",
    "    #cur.execute(query1)\n",
    "    df = pd.read_sql_query(query1, conn)\n",
    "    print(df)\n",
    "    #for row in rows:\n",
    "     #   print(row)\n",
    "\n",
    "\n",
    "def execute_query(q):\n",
    "    database = \"sqlite_db_pythonsqlite.db\"     \n",
    "    # create a database connection\n",
    "    conn = create_connection(database)\n",
    "    with conn: \n",
    "        #print(\"2. Query all tasks\")\n",
    "        select_all_tasks(conn, q)\n",
    "        \n"
   ]
  },
  {
   "cell_type": "markdown",
   "id": "4573857c",
   "metadata": {},
   "source": [
    "Q10: Produce a list of facilities with a total revenue less than 1000. The output of facility name \n",
    "and total revenue, sorted by revenue. Remember that there's a different cost for guests and members! "
   ]
  },
  {
   "cell_type": "code",
   "execution_count": 2,
   "id": "ae393778",
   "metadata": {},
   "outputs": [
    {
     "name": "stdout",
     "output_type": "stream",
     "text": [
      "            name  revenue\n",
      "0     Pool Table      270\n",
      "1  Snooker Table      240\n",
      "2   Table Tennis      180\n"
     ]
    }
   ],
   "source": [
    "query10 = \"\"\"\n",
    "WITH cte AS (SELECT name, SUM(cost) as revenue FROM (SELECT f.name, CASE\n",
    "    WHEN m.memid = 0 THEN b.slots * f.guestcost\n",
    "    ELSE b.slots * f.membercost END AS cost \n",
    "FROM Bookings AS b\n",
    "LEFT JOIN Facilities AS f\n",
    "    USING(facid)\n",
    "LEFT JOIN Members AS m\n",
    "    ON b.memid = m.memid\n",
    "GROUP BY b.bookid) AS sub\n",
    "GROUP BY name)\n",
    "SELECT *\n",
    "FROM cte\n",
    "WHERE revenue < 1000;\n",
    "\"\"\"\n",
    "execute_query(query10)"
   ]
  },
  {
   "cell_type": "markdown",
   "id": "033cee78",
   "metadata": {},
   "source": [
    "Q11: Produce a report of members and who recommended them in alphabetic surname,firstname order"
   ]
  },
  {
   "cell_type": "code",
   "execution_count": 3,
   "id": "56fdd03f",
   "metadata": {},
   "outputs": [
    {
     "name": "stdout",
     "output_type": "stream",
     "text": [
      "                 member_name      recommended_by\n",
      "0            Bader, Florence    Stibbons, Ponder\n",
      "1                Baker, Anne    Stibbons, Ponder\n",
      "2             Baker, Timothy     Farrell, Jemima\n",
      "3                Boothe, Tim         Rownam, Tim\n",
      "4            Butters, Gerald       Smith, Darren\n",
      "5               Coplin, Joan      Baker, Timothy\n",
      "6             Crumpet, Erica        Smith, Tracy\n",
      "7                Dare, Nancy    Joplette, Janice\n",
      "8           Genting, Matthew     Butters, Gerald\n",
      "9                 Hunt, John  Purview, Millicent\n",
      "10              Jones, David    Joplette, Janice\n",
      "11            Jones, Douglas        Jones, David\n",
      "12          Joplette, Janice       Smith, Darren\n",
      "13           Mackenzie, Anna       Smith, Darren\n",
      "14             Owen, Charles       Smith, Darren\n",
      "15             Pinker, David     Farrell, Jemima\n",
      "16        Purview, Millicent        Smith, Tracy\n",
      "17         Rumney, Henrietta    Genting, Matthew\n",
      "18         Sarwin, Ramnaresh     Bader, Florence\n",
      "19               Smith, Jack       Smith, Darren\n",
      "20          Stibbons, Ponder       Tracy, Burton\n",
      "21  Worthington-Smyth, Henry        Smith, Tracy\n"
     ]
    }
   ],
   "source": [
    "query11 = \"\"\"\n",
    "SELECT DISTINCT m1.surname|| ', '|| m1.firstname AS member_name, \n",
    "m2.surname || ', ' || m2.firstname AS recommended_by\n",
    "FROM Members AS m1\n",
    "INNER JOIN Members AS m2\n",
    "ON m1.recommendedby=m2.memid\n",
    "WHERE m1.recommendedby !=0\n",
    "ORDER BY member_name;\n",
    "\"\"\"\n",
    "execute_query(query11)"
   ]
  },
  {
   "cell_type": "markdown",
   "id": "1bf6a626",
   "metadata": {},
   "source": [
    "Q12: Find the facilities with their usage by member, but not guests"
   ]
  },
  {
   "cell_type": "code",
   "execution_count": 4,
   "id": "0e047c75",
   "metadata": {},
   "outputs": [
    {
     "name": "stdout",
     "output_type": "stream",
     "text": [
      "              name  total_usage\n",
      "0  Badminton Court         1086\n",
      "1   Massage Room 1          884\n",
      "2   Massage Room 2           54\n",
      "3       Pool Table          856\n",
      "4    Snooker Table          860\n",
      "5     Squash Court          418\n",
      "6     Table Tennis          794\n",
      "7   Tennis Court 1          957\n",
      "8   Tennis Court 2          882\n"
     ]
    }
   ],
   "source": [
    "query12 = \"\"\"\n",
    "SELECT f.name, SUM(b.slots) AS total_usage\n",
    "FROM Facilities As f\n",
    "INNER JOIN Bookings AS b\n",
    "USING (facid)\n",
    "WHERE b.memid !=0\n",
    "GROUP BY f.name;\n",
    "\"\"\"\n",
    "execute_query(query12)"
   ]
  },
  {
   "cell_type": "markdown",
   "id": "906b835b",
   "metadata": {},
   "source": [
    "Q13: Find the facilities usage by month, but not guests"
   ]
  },
  {
   "cell_type": "code",
   "execution_count": 5,
   "id": "4ce1c259",
   "metadata": {},
   "outputs": [
    {
     "name": "stdout",
     "output_type": "stream",
     "text": [
      "               name month  total_usage\n",
      "0   Badminton Court    07          165\n",
      "1   Badminton Court    08          414\n",
      "2   Badminton Court    09          507\n",
      "3    Massage Room 1    07          166\n",
      "4    Massage Room 1    08          316\n",
      "5    Massage Room 1    09          402\n",
      "6    Massage Room 2    07            8\n",
      "7    Massage Room 2    08           18\n",
      "8    Massage Room 2    09           28\n",
      "9        Pool Table    07          110\n",
      "10       Pool Table    08          303\n",
      "11       Pool Table    09          443\n",
      "12    Snooker Table    07          140\n",
      "13    Snooker Table    08          316\n",
      "14    Snooker Table    09          404\n",
      "15     Squash Court    07           50\n",
      "16     Squash Court    08          184\n",
      "17     Squash Court    09          184\n",
      "18     Table Tennis    07           98\n",
      "19     Table Tennis    08          296\n",
      "20     Table Tennis    09          400\n",
      "21   Tennis Court 1    07          201\n",
      "22   Tennis Court 1    08          339\n",
      "23   Tennis Court 1    09          417\n",
      "24   Tennis Court 2    07          123\n",
      "25   Tennis Court 2    08          345\n",
      "26   Tennis Court 2    09          414\n"
     ]
    }
   ],
   "source": [
    "query13 = \"\"\"\n",
    "SELECT f.name, strftime('%m',b.starttime) AS month,\n",
    "SUM(b.slots) AS total_usage\n",
    "FROM Facilities As f\n",
    "INNER JOIN Bookings AS b\n",
    "USING (facid)\n",
    "WHERE b.memid !=0\n",
    "GROUP BY f.name, month;\n",
    "\"\"\"\n",
    "execute_query(query13)"
   ]
  }
 ],
 "metadata": {
  "kernelspec": {
   "display_name": "Python 3 (ipykernel)",
   "language": "python",
   "name": "python3"
  },
  "language_info": {
   "codemirror_mode": {
    "name": "ipython",
    "version": 3
   },
   "file_extension": ".py",
   "mimetype": "text/x-python",
   "name": "python",
   "nbconvert_exporter": "python",
   "pygments_lexer": "ipython3",
   "version": "3.9.12"
  }
 },
 "nbformat": 4,
 "nbformat_minor": 5
}
